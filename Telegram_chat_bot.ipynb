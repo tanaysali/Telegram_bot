{
  "nbformat": 4,
  "nbformat_minor": 0,
  "metadata": {
    "colab": {
      "provenance": []
    },
    "kernelspec": {
      "name": "python3",
      "display_name": "Python 3"
    },
    "language_info": {
      "name": "python"
    }
  },
  "cells": [
    {
      "cell_type": "code",
      "source": [
        "#install the telegram chat bot\n",
        "!pip install python-telegram-bot\n",
        "\n",
        "\n",
        "# installing via conda\n",
        "!conda install -c conda-forge python-telegram-bot"
      ],
      "metadata": {
        "colab": {
          "base_uri": "https://localhost:8080/"
        },
        "id": "p8JrLg_94i0j",
        "outputId": "2bf955a1-4cbf-4f48-d899-368ae61314ba"
      },
      "execution_count": 16,
      "outputs": [
        {
          "output_type": "stream",
          "name": "stdout",
          "text": [
            "Requirement already satisfied: python-telegram-bot in /usr/local/lib/python3.10/dist-packages (21.4)\n",
            "Requirement already satisfied: httpx~=0.27 in /usr/local/lib/python3.10/dist-packages (from python-telegram-bot) (0.27.0)\n",
            "Requirement already satisfied: anyio in /usr/local/lib/python3.10/dist-packages (from httpx~=0.27->python-telegram-bot) (3.7.1)\n",
            "Requirement already satisfied: certifi in /usr/local/lib/python3.10/dist-packages (from httpx~=0.27->python-telegram-bot) (2024.7.4)\n",
            "Requirement already satisfied: httpcore==1.* in /usr/local/lib/python3.10/dist-packages (from httpx~=0.27->python-telegram-bot) (1.0.5)\n",
            "Requirement already satisfied: idna in /usr/local/lib/python3.10/dist-packages (from httpx~=0.27->python-telegram-bot) (3.7)\n",
            "Requirement already satisfied: sniffio in /usr/local/lib/python3.10/dist-packages (from httpx~=0.27->python-telegram-bot) (1.3.1)\n",
            "Requirement already satisfied: h11<0.15,>=0.13 in /usr/local/lib/python3.10/dist-packages (from httpcore==1.*->httpx~=0.27->python-telegram-bot) (0.14.0)\n",
            "Requirement already satisfied: exceptiongroup in /usr/local/lib/python3.10/dist-packages (from anyio->httpx~=0.27->python-telegram-bot) (1.2.2)\n",
            "/bin/bash: line 1: conda: command not found\n"
          ]
        }
      ]
    },
    {
      "cell_type": "code",
      "source": [],
      "metadata": {
        "id": "8mANynYt4ist"
      },
      "execution_count": 3,
      "outputs": []
    },
    {
      "cell_type": "code",
      "source": [
        "from typing import Final\n",
        "from telegram import Update\n",
        "from telegram.ext import Application, CommandHandler, MessageHandler, filters, ContextTypes\n",
        "import asyncio\n",
        "\n",
        "TOKEN : Final = '6085496671:AAF23dF_yCH48ztkMt2ZP6Spdf63TB2hNsQ'\n",
        "Bot_username : Final = '@Tanay_chat_bot'\n",
        "\n",
        "async def start_command(update: Update, context: ContextTypes.DEFAULT_TYPE):\n",
        "  await update.message.reply_text('Hello, Welcome to the RGITBT')\n",
        "  await update.message.reply_text('How may I help you?')\n",
        "\n",
        "async def help_command(update: Update, context: ContextTypes.DEFAULT_TYPE):\n",
        "  await update.message.reply_text('I am RGITBT Assistant. Please type some thing so i can respond!')\n",
        "\n",
        "async def custom_command(update: Update, context: ContextTypes.DEFAULT_TYPE):\n",
        "  await update.message.reply_text('This is a custom command')\n",
        "\n",
        "async def stop_command(update: Update, context: ContextTypes.DEFAULT_TYPE):\n",
        "    await update.message.reply_text('Stopping the bot...')\n",
        "    await app.stop()\n",
        "    print(\"Bot has been stopped.\")\n",
        "\n",
        "\n",
        "def hande_response(text: str) -> str:\n",
        "  processed: str = text.lower()\n",
        "\n",
        "  if 'hello' in processed:\n",
        "    return 'Hey there!'\n",
        "\n",
        "  if 'how are you' in processed:\n",
        "    return 'I am good!'\n",
        "\n",
        "  return 'I do not understand what you wrote...'\n",
        "\n",
        "async def handle_message(update: Update, context: ContextTypes.DEFAULT_TYPE):\n",
        "  message_type: str = update.message.chat.type\n",
        "  text: str = update.message.text\n",
        "\n",
        "  print(f'User ({update.message.chat.id}) in {message_type}: \"{text}\"')\n",
        "  response: str = handle_response(text)\n",
        "  print('Bot:', response)\n",
        "  await update.message.reply_text(response)\n",
        "\n",
        "\n",
        "async def error(update: Update, context: ContextTypes.DEFAULT_TYPE):\n",
        "  print(f'Update {update} caused error {context.error}')\n",
        "\n",
        "\n",
        "\n",
        "if __name__ == '__main__':\n",
        "  print('Starting bot...')\n",
        "  app = Application.builder().token(TOKEN).build()\n",
        "\n",
        "  #Commands\n",
        "  app.add_handler(CommandHandler('start', start_command))\n",
        "  app.add_handler(CommandHandler('help', help_command))\n",
        "  app.add_handler(CommandHandler('custom', custom_command))\n",
        "  app.add_handler(CommandHandler('stop', stop_command))\n",
        "\n",
        "  #Messages\n",
        "  app.add_handler(MessageHandler(filters.TEXT, handle_message))\n",
        "\n",
        "  #Errors\n",
        "  app.add_error_handler(error)\n",
        "  print('Polling...')\n",
        "  await app.initialize()\n",
        "  await app.start()\n",
        "  await app.updater.start_polling()\n",
        " # Run until cancelled\n",
        "  await app.stop()\n",
        "\n",
        "\n"
      ],
      "metadata": {
        "colab": {
          "base_uri": "https://localhost:8080/"
        },
        "id": "6o04na2T4ivS",
        "outputId": "5b6f3f01-05ce-4979-b378-1f4f824ce347"
      },
      "execution_count": 29,
      "outputs": [
        {
          "output_type": "stream",
          "name": "stdout",
          "text": [
            "Starting bot...\n",
            "Polling...\n"
          ]
        }
      ]
    },
    {
      "cell_type": "code",
      "source": [
        "\n"
      ],
      "metadata": {
        "id": "UO7CWt02kpTG"
      },
      "execution_count": null,
      "outputs": []
    },
    {
      "cell_type": "code",
      "source": [
        "# Function to navigate the tree diagram and find the response\n",
        "def navigate_tree(tree, query):\n",
        "    parts = query.split(' > ')\n",
        "    subtree = tree\n",
        "    for part in parts:\n",
        "        if part in subtree:\n",
        "            subtree = subtree[part]\n",
        "        else:\n",
        "            return \"I do not understand what you wrote...\"\n",
        "    if isinstance(subtree, dict):\n",
        "        return f\"Options: {', '.join(subtree.keys())}\"\n",
        "    else:\n",
        "        return subtree\n",
        "\n",
        "    # Here we attempt to navigate the tree diagram\n",
        "    return navigate_tree(tree_diagram, text)"
      ],
      "metadata": {
        "id": "0GDCb_chxx4l"
      },
      "execution_count": null,
      "outputs": []
    }
  ]
}